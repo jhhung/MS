{
 "cells": [
  {
   "cell_type": "markdown",
   "metadata": {},
   "source": [
    "# Usage of DeepEI"
   ]
  },
  {
   "cell_type": "markdown",
   "metadata": {},
   "source": [
    "## Preparing the dataset for training the fingerprint prediction model"
   ]
  },
  {
   "cell_type": "markdown",
   "metadata": {},
   "source": [
    "This repository does not include the data exported from NIST 2017, which is used in the paper. The users need prepare the data themselves. If they do not have the NIST 2017, MoNA should be an alternative options. Here we assume that a list of SMILES and the corresponding is available."
   ]
  },
  {
   "cell_type": "code",
   "execution_count": 10,
   "metadata": {},
   "outputs": [],
   "source": [
    "import numpy as np\n",
    "from scipy.sparse import csr_matrix, save_npz\n",
    "from DeepEI.utils import ms2vec, fp2vec, get_cdk_fingerprints"
   ]
  },
  {
   "cell_type": "code",
   "execution_count": 11,
   "metadata": {},
   "outputs": [],
   "source": [
    "all_smiles = [\"CCOP(C)(=O)OP(C)(=S)OCC\", \"C[Si](C)(C)NC(=O)N1c2ccccc2CC(O[Si](C)(C)C)c2ccccc21\", \"O=C(C(Br)C(Br)c1ccccc1)C(Br)C(Br)c1ccccc1\"]\n",
    "all_spectra = [[[55, 70, 145, 255], [23, 999, 344, 77]], [[58, 75, 233, 259], [23, 566, 304, 999]], [[15, 88, 170, 335], [15, 99, 999, 664]]] # not real spectra"
   ]
  },
  {
   "cell_type": "code",
   "execution_count": 12,
   "metadata": {},
   "outputs": [],
   "source": [
    "# calculate fingerprints\n",
    "fp_vecs = np.array([get_cdk_fingerprints(s) for s in all_smiles])\n",
    "\n",
    "# translate peaks into vectors\n",
    "peak_vecs = np.array([ms2vec(s[0], s[1]) for s in all_spectra])"
   ]
  },
  {
   "cell_type": "code",
   "execution_count": 13,
   "metadata": {},
   "outputs": [],
   "source": [
    "# translate into sparse matrix and save\n",
    "fp_vecs = csr_matrix(fp_vecs)\n",
    "peak_vecs = csr_matrix(peak_vecs)\n",
    "# save_npz('DeepEI/data/peakvec.npz', peak_vecs)\n",
    "# save_npz('DeepEI/data/fingerprints.npz', fp_vecs)"
   ]
  },
  {
   "cell_type": "markdown",
   "metadata": {},
   "source": [
    "## Training the model"
   ]
  },
  {
   "cell_type": "markdown",
   "metadata": {},
   "source": [
    "With the dataset, the users can train the MLP models for fingerprint prediction. The function is called directly from *Fingerprint/mlp.py*. If they want to tune the parameters of the model, they can edit the file."
   ]
  },
  {
   "cell_type": "code",
   "execution_count": 14,
   "metadata": {},
   "outputs": [],
   "source": [
    "from scipy.sparse import load_npz\n",
    "from Fingerprint.mlp import MLP"
   ]
  },
  {
   "cell_type": "code",
   "execution_count": 15,
   "metadata": {},
   "outputs": [],
   "source": [
    "spec = load_npz('DeepEI/data/peakvec.npz')\n",
    "fps = load_npz('DeepEI/data/fingerprints.npz')\n",
    "spec = spec.todense()\n",
    "fps = csr_matrix(fps)"
   ]
  },
  {
   "cell_type": "code",
   "execution_count": null,
   "metadata": {},
   "outputs": [],
   "source": [
    "# training the model one-by-one, it will be time-consuming\n",
    "for i in tqdm(range(fps.shape[1])):\n",
    "    y = fps[:,i].todense()\n",
    "    y = np.squeeze(np.asarray(y))\n",
    "    \n",
    "    # check: 0.1 < bias < 0.9\n",
    "    fr = np.sum(y) / len(y)\n",
    "    if (fr < 0.1) or (fr > 0.9):\n",
    "        continue\n",
    "    Y = np.vstack((y, (1-y))).transpose()\n",
    "    \n",
    "    # for write the evaluation results \n",
    "    mlp_result = open('Fingerprint/results/mlp_result.txt', 'a+')\n",
    "    \n",
    "    mlp = MLP(spec, Y)\n",
    "    mlp.train()\n",
    "    mlp_res = mlp.test()\n",
    "    mlp_result.write(\"\\t\".join([str(i)] + [str(j) for j in mlp_res]))\n",
    "    mlp_result.write(\"\\n\")\n",
    "    mlp.save('Fingerprint/mlp_models/{}.h5'.format(i))"
   ]
  },
  {
   "cell_type": "markdown",
   "metadata": {},
   "source": [
    "## Predicting the fingerprints via the spectra"
   ]
  },
  {
   "cell_type": "markdown",
   "metadata": {},
   "source": [
    "With the model, if given unknown spectra, the fingerprints can be predicted"
   ]
  },
  {
   "cell_type": "code",
   "execution_count": 21,
   "metadata": {},
   "outputs": [],
   "source": [
    "import numpy as np\n",
    "import pandas as pd\n",
    "from DeepEI.predict import predict_fingerprint"
   ]
  },
  {
   "cell_type": "code",
   "execution_count": 22,
   "metadata": {},
   "outputs": [],
   "source": [
    "mlp = pd.read_csv('Fingerprint/results/mlp_result.txt', sep='\\t', header=None)\n",
    "mlp.columns = ['id', 'accuracy', 'precision', 'recall', 'f1']\n",
    "fpkeep = mlp['id'][np.where(mlp['f1'] > 0.5)[0]] # only keep the model with F1>0.5"
   ]
  },
  {
   "cell_type": "code",
   "execution_count": 24,
   "metadata": {},
   "outputs": [
    {
     "name": "stderr",
     "output_type": "stream",
     "text": [
      "100%|████████████████████████████████████████████████████████████████████████████████| 633/633 [03:54<00:00,  2.70it/s]\n"
     ]
    }
   ],
   "source": [
    "unknown_spectra = [[[55, 70, 145, 255], [23, 999, 344, 77]], [[58, 75, 233, 259], [23, 566, 304, 999]], [[15, 88, 170, 335], [15, 99, 999, 664]]] # not real spectra\n",
    "unknown_peak_vecs = np.array([ms2vec(s[0], s[1]) for s in unknown_spectra])\n",
    "pred_fps = predict_fingerprint(unknown_peak_vecs, fpkeep) "
   ]
  },
  {
   "cell_type": "markdown",
   "metadata": {},
   "source": [
    "## Score the candidates"
   ]
  },
  {
   "cell_type": "markdown",
   "metadata": {},
   "source": [
    "Here the user should give the candidates of the unknown compounds. DeepEI will score the candidates based on the fingerprints similarity."
   ]
  },
  {
   "cell_type": "code",
   "execution_count": 30,
   "metadata": {},
   "outputs": [],
   "source": [
    "from DeepEI.utils import get_fp_score"
   ]
  },
  {
   "cell_type": "code",
   "execution_count": 31,
   "metadata": {},
   "outputs": [],
   "source": [
    "candidate_smiles = [\"CCOP(C)(=O)OP(C)(=S)OCC\", \"C[Si](C)(C)NC(=O)N1c2ccccc2CC(O[Si](C)(C)C)c2ccccc21\", \"O=C(C(Br)C(Br)c1ccccc1)C(Br)C(Br)c1ccccc1\"]\n",
    "candidate_fps = np.array([get_cdk_fingerprints(s) for s in all_smiles])\n",
    "candidate_fps = candidate_fps[:, fpkeep] # only keep the fingerprints with the prediction model"
   ]
  },
  {
   "cell_type": "code",
   "execution_count": 32,
   "metadata": {},
   "outputs": [],
   "source": [
    "pred_fp = pred_fps[0] # choose the first unknown compound\n",
    "scores = get_fp_score(pred_fp, candidate_fps)"
   ]
  },
  {
   "cell_type": "code",
   "execution_count": 33,
   "metadata": {},
   "outputs": [
    {
     "name": "stdout",
     "output_type": "stream",
     "text": [
      "[0.71406003 0.5971564  0.66824645]\n"
     ]
    }
   ],
   "source": [
    "print(scores)"
   ]
  }
 ],
 "metadata": {
  "kernelspec": {
   "display_name": "Python 3",
   "language": "python",
   "name": "python3"
  },
  "language_info": {
   "codemirror_mode": {
    "name": "ipython",
    "version": 3
   },
   "file_extension": ".py",
   "mimetype": "text/x-python",
   "name": "python",
   "nbconvert_exporter": "python",
   "pygments_lexer": "ipython3",
   "version": "3.7.6"
  }
 },
 "nbformat": 4,
 "nbformat_minor": 4
}
